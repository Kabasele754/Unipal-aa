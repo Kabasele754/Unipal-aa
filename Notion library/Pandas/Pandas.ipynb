{
 "cells": [
  {
   "cell_type": "markdown",
   "id": "6b8771e2",
   "metadata": {},
   "source": [
    "# Création d’un objet Series grâce à un dictionnaire\n",
    "## Nous pouvons créer une série à partir d’un dictionnaire. L’index de cette série aura automatiquement les étiquettes correspondant aux clés du dictionnaire\n",
    "\n",
    "## Voyons par exemple la création d’un objet Series représentant la note obtenue d’un élève pour trois matières dans le code qui suit :"
   ]
  },
  {
   "cell_type": "code",
   "execution_count": 22,
   "id": "78a5c510",
   "metadata": {},
   "outputs": [],
   "source": [
    "import pandas as pd\n",
    "import numpy as np"
   ]
  },
  {
   "cell_type": "code",
   "execution_count": 23,
   "id": "9f1c9d68",
   "metadata": {},
   "outputs": [
    {
     "name": "stdout",
     "output_type": "stream",
     "text": [
      "Mathématiques    19\n",
      "Français         12\n",
      "Dessin           15\n",
      "dtype: int64\n"
     ]
    }
   ],
   "source": [
    "notes = {\"Mathématiques\": 19, \"Français\": 12, \"Dessin\": 15}\n",
    "ser = pd.Series(notes)\n",
    "print(ser)"
   ]
  },
  {
   "cell_type": "code",
   "execution_count": 24,
   "id": "dc74a198",
   "metadata": {},
   "outputs": [
    {
     "name": "stdout",
     "output_type": "stream",
     "text": [
      "Index(['Mathématiques', 'Français', 'Dessin'], dtype='object')\n",
      "<PandasArray>\n",
      "[19, 12, 15]\n",
      "Length: 3, dtype: int64\n"
     ]
    }
   ],
   "source": [
    "print (ser.index) #affiche l'index de la série\n",
    "print (ser.array) #affiche la data de la série"
   ]
  },
  {
   "cell_type": "code",
   "execution_count": 25,
   "id": "66bd877a",
   "metadata": {},
   "outputs": [
    {
     "name": "stdout",
     "output_type": "stream",
     "text": [
      "Meilleure note 19\n"
     ]
    }
   ],
   "source": [
    "print(f\"Meilleure note {ser['Mathématiques']}\")"
   ]
  },
  {
   "cell_type": "code",
   "execution_count": 26,
   "id": "c58362fa",
   "metadata": {},
   "outputs": [
    {
     "name": "stdout",
     "output_type": "stream",
     "text": [
      "False\n"
     ]
    }
   ],
   "source": [
    "#vérifie si l'étiquette Sciences Physiques est présente dans l'index \n",
    "a = \"Sciences Physiques\" in ser \n",
    "\n",
    "print(a)"
   ]
  },
  {
   "cell_type": "markdown",
   "id": "5efd4be4",
   "metadata": {},
   "source": [
    "## Une série crée à partir d’un dictionnaire peut voir un index de taille différente de la taille du dictionnaire. Génial non ?"
   ]
  },
  {
   "cell_type": "code",
   "execution_count": 27,
   "id": "504a0f82",
   "metadata": {},
   "outputs": [
    {
     "data": {
      "text/plain": [
       "Mathématiques         19.0\n",
       "Français              12.0\n",
       "Sciences Physiques     NaN\n",
       "Dessin                15.0\n",
       "dtype: float64"
      ]
     },
     "execution_count": 27,
     "metadata": {},
     "output_type": "execute_result"
    }
   ],
   "source": [
    "ser = pd.Series(notes, index=[\"Mathématiques\", \"Français\", \"Sciences Physiques\", \"Dessin\" ])\n",
    "ser"
   ]
  },
  {
   "cell_type": "markdown",
   "id": "cc6f26ba",
   "metadata": {},
   "source": [
    "## Création d’un objet Series grâce à un ndarray\n",
    "### Si data est un ndarray, l’index passé en paramètre doit être de la même longueur que data. Si aucun index n’est passé, un index sera créé avec les valeurs [0, …, len(data) – 1].\n",
    "\n",
    "### Prenons un autre exemple en créant un objet Series représentant le nombre d’habitants de trois pays :"
   ]
  },
  {
   "cell_type": "code",
   "execution_count": 28,
   "id": "7a84cc99",
   "metadata": {},
   "outputs": [
    {
     "data": {
      "text/plain": [
       "France         67060000\n",
       "Allemagne      83020000\n",
       "Etats-Unis    328200000\n",
       "dtype: int64"
      ]
     },
     "execution_count": 28,
     "metadata": {},
     "output_type": "execute_result"
    }
   ],
   "source": [
    "population = np.array([67060000, 83020000, 328200000])\n",
    "pays = [\"France\", \"Allemagne\", \"Etats-Unis\"]\n",
    "ser_pp = pd.Series(population, index=pays)\n",
    "ser_pp"
   ]
  },
  {
   "cell_type": "markdown",
   "id": "25567745",
   "metadata": {},
   "source": [
    "# Création d’un objet Series grâce à une valeur scalaire\n",
    "## Si le paramètre data est une valeur scalaire, un index doit être fourni. La valeur sera répétée pour correspondre à la longueur de l’index."
   ]
  },
  {
   "cell_type": "code",
   "execution_count": 29,
   "id": "fdc78350",
   "metadata": {},
   "outputs": [
    {
     "data": {
      "text/plain": [
       "a    5.0\n",
       "b    5.0\n",
       "c    5.0\n",
       "d    5.0\n",
       "dtype: float64"
      ]
     },
     "execution_count": 29,
     "metadata": {},
     "output_type": "execute_result"
    }
   ],
   "source": [
    "ser_sc = pd.Series(5.0, index=[\"a\", \"b\", \"c\", \"d\"])\n",
    "ser_sc"
   ]
  },
  {
   "cell_type": "markdown",
   "id": "64257e64",
   "metadata": {},
   "source": [
    "## L’attribut name d’un objet Series\n",
    "### Par défaut, une série ne possède pas de nom mais il possible de la nommer grâce à l’attribut name. Voyons cela tout de suite :"
   ]
  },
  {
   "cell_type": "code",
   "execution_count": 30,
   "id": "798d019e",
   "metadata": {},
   "outputs": [
    {
     "data": {
      "text/plain": [
       "France         67060000\n",
       "Allemagne      83020000\n",
       "Etats-Unis    328200000\n",
       "Name: Série nombre d'habitants, dtype: int64"
      ]
     },
     "execution_count": 30,
     "metadata": {},
     "output_type": "execute_result"
    }
   ],
   "source": [
    "ser_pp = pd.Series(population, index=pays, name=\"Série nombre d'habitants\")\n",
    "ser_pp"
   ]
  },
  {
   "cell_type": "markdown",
   "id": "62cd1ea3",
   "metadata": {},
   "source": [
    "## Vous vous demandez peut-être comment modifier le nom de la série. C’est simple ! On utilise juste la méthode rename()"
   ]
  },
  {
   "cell_type": "code",
   "execution_count": 31,
   "id": "3e1c79f4",
   "metadata": {},
   "outputs": [
    {
     "data": {
      "text/plain": [
       "France         67060000\n",
       "Allemagne      83020000\n",
       "Etats-Unis    328200000\n",
       "Name: Nb habitants, dtype: int64"
      ]
     },
     "execution_count": 31,
     "metadata": {},
     "output_type": "execute_result"
    }
   ],
   "source": [
    "ser_pp2 = ser_pp.rename(\"Nb habitants\") #ser et ser2 sont deux objets différents\n",
    "ser_pp2"
   ]
  },
  {
   "cell_type": "markdown",
   "id": "34b031f8",
   "metadata": {},
   "source": [
    "# La Dataframe : la structure de données la plus puissante de Pandas\n",
    "### La Dataframe est une structure de données qui organise les données en lignes et en colonnes, ce qui en fait une structure de données bidimensionnelle. Vous pouvez l’imaginer comme une feuille de calcul ou une table SQL, ou encore un dictionnaire d’objets Series. C’est généralement l’objet pandas le plus utilisé. Comme une série, un Dataframe peut être construit à partir de nombreux types différents :\n",
    "\n",
    " ### Un dict de ndarrays 1D, listes, dicts, ou Series ;\n",
    " ### Un numpy.ndarray bidimensionnelle ;\n",
    " ###   Un ndarray strucuré ;\n",
    " ###   Une série ;\n",
    " ###   Ou encore un autre Dataframe.\n",
    " \n",
    " ###    La méthode de base pour créer une Dataframe est la suivante :\n",
    " #### df= pd.Dataframe(data,  index=index, columns=columns)\n",
    " \n",
    " #### Ici, l’index représente l’ensemble des étiquettes de lignes et columns l’ensemble des étiquettes de colonnes."
   ]
  },
  {
   "cell_type": "markdown",
   "id": "de27e195",
   "metadata": {},
   "source": [
    "## Alors qu’est-ce qui fait vraiment la puissance de cette structure ?\n",
    "## La Dataframe Pandas est puissante car :\n",
    "\n",
    "### Elle peut facilement charger des données provenant de différentes sources de données et de différents formats de données ;\n",
    "### Elle vous permet de réaliser facilement des statistiques et répondre à des questions sur les données, telles que : Quelle est la moyenne, la médiane, le maximum ou le minimum de chaque colonne ?  Y a-t-il une corrélation entre la colonne A et la colonne B ? À quoi ressemble la distribution des données de la colonne C ? ;\n",
    "### Elle facilite également le nettoyage les données en supprimant les valeurs manquantes et en filtrant les lignes ou les colonnes selon certains critères\n",
    "### Elle permet de visualiser les données avec l’aide de Matplotlib. Tracez des barres, des lignes, des histogrammes, des bulles, etc. ;\n",
    "### Elle permet de stocker les données nettoyées et transformées dans un CSV, un autre fichier ou une base de données.\n",
    "### Vous pouvez définir vos propres fonctions Python pour certaines tâches de calcul et les appliquez aux données de vos Dataframes."
   ]
  },
  {
   "cell_type": "markdown",
   "id": "129284b8",
   "metadata": {},
   "source": [
    "# Création d’une Dataframe à partir d’un dictionnaire de séries\n",
    "## L’index du Dataframe résultant sera l’union des index des différentes Series.  Voyons cela avec l’exemple suivant :"
   ]
  },
  {
   "cell_type": "code",
   "execution_count": 34,
   "id": "423b2c8e",
   "metadata": {},
   "outputs": [
    {
     "data": {
      "text/html": [
       "<div>\n",
       "<style scoped>\n",
       "    .dataframe tbody tr th:only-of-type {\n",
       "        vertical-align: middle;\n",
       "    }\n",
       "\n",
       "    .dataframe tbody tr th {\n",
       "        vertical-align: top;\n",
       "    }\n",
       "\n",
       "    .dataframe thead th {\n",
       "        text-align: right;\n",
       "    }\n",
       "</style>\n",
       "<table border=\"1\" class=\"dataframe\">\n",
       "  <thead>\n",
       "    <tr style=\"text-align: right;\">\n",
       "      <th></th>\n",
       "      <th>Mathématiques</th>\n",
       "      <th>Sciences Physiques</th>\n",
       "    </tr>\n",
       "  </thead>\n",
       "  <tbody>\n",
       "    <tr>\n",
       "      <th>Gilles</th>\n",
       "      <td>20.0</td>\n",
       "      <td>7.0</td>\n",
       "    </tr>\n",
       "    <tr>\n",
       "      <th>Sylvain</th>\n",
       "      <td>17.0</td>\n",
       "      <td>10.0</td>\n",
       "    </tr>\n",
       "    <tr>\n",
       "      <th>Sylvie</th>\n",
       "      <td>18.0</td>\n",
       "      <td>15.0</td>\n",
       "    </tr>\n",
       "    <tr>\n",
       "      <th>Thomas</th>\n",
       "      <td>NaN</td>\n",
       "      <td>20.0</td>\n",
       "    </tr>\n",
       "  </tbody>\n",
       "</table>\n",
       "</div>"
      ],
      "text/plain": [
       "         Mathématiques  Sciences Physiques\n",
       "Gilles            20.0                 7.0\n",
       "Sylvain           17.0                10.0\n",
       "Sylvie            18.0                15.0\n",
       "Thomas             NaN                20.0"
      ]
     },
     "execution_count": 34,
     "metadata": {},
     "output_type": "execute_result"
    }
   ],
   "source": [
    "notes = {\n",
    "         \"Mathématiques\": pd.Series([18.0, 20.0, 17.0], index=[\"Sylvie\", \"Gilles\", \"Sylvain\"]),\n",
    "         \"Sciences Physiques\": pd.Series([15.0, 7.0, 10.0,20.0],index=[\"Sylvie\", \"Gilles\", \"Sylvain\", \"Thomas\"]),\n",
    "    }\n",
    "\n",
    "df = pd.DataFrame(notes)\n",
    "df\n",
    "# print(dir(pd))\n"
   ]
  },
  {
   "cell_type": "markdown",
   "id": "20de16da",
   "metadata": {},
   "source": [
    "### Les étiquettes des lignes et des colonnes sont accessibles respectivement en accédant aux attributs index et columns de la façon suivante :"
   ]
  },
  {
   "cell_type": "code",
   "execution_count": 35,
   "id": "435ddf23",
   "metadata": {},
   "outputs": [
    {
     "name": "stdout",
     "output_type": "stream",
     "text": [
      "Index(['Gilles', 'Sylvain', 'Sylvie', 'Thomas'], dtype='object')\n",
      "Index(['Mathématiques', 'Sciences Physiques'], dtype='object')\n"
     ]
    }
   ],
   "source": [
    "print(df.index)\n",
    "print(df.columns)"
   ]
  },
  {
   "cell_type": "markdown",
   "id": "65bc15b2",
   "metadata": {},
   "source": [
    "# Création d’une Dataframe à partir d’un dictionnaire de ndarray ou de liste\n",
    "## Les ndarrays doivent tous être de la même longueur. Si un index est passé, il doit aussi être de la même longueur que les tableaux. Si aucun index n’est passé, le résultat sera range(n), où n est la longueur du tableau."
   ]
  },
  {
   "cell_type": "code",
   "execution_count": 37,
   "id": "9639e28d",
   "metadata": {},
   "outputs": [
    {
     "data": {
      "text/html": [
       "<div>\n",
       "<style scoped>\n",
       "    .dataframe tbody tr th:only-of-type {\n",
       "        vertical-align: middle;\n",
       "    }\n",
       "\n",
       "    .dataframe tbody tr th {\n",
       "        vertical-align: top;\n",
       "    }\n",
       "\n",
       "    .dataframe thead th {\n",
       "        text-align: right;\n",
       "    }\n",
       "</style>\n",
       "<table border=\"1\" class=\"dataframe\">\n",
       "  <thead>\n",
       "    <tr style=\"text-align: right;\">\n",
       "      <th></th>\n",
       "      <th>Prenom</th>\n",
       "      <th>Age</th>\n",
       "    </tr>\n",
       "  </thead>\n",
       "  <tbody>\n",
       "    <tr>\n",
       "      <th>0</th>\n",
       "      <td>Sylvie</td>\n",
       "      <td>18.0</td>\n",
       "    </tr>\n",
       "    <tr>\n",
       "      <th>1</th>\n",
       "      <td>Gilles</td>\n",
       "      <td>23.0</td>\n",
       "    </tr>\n",
       "    <tr>\n",
       "      <th>2</th>\n",
       "      <td>Sylvain</td>\n",
       "      <td>25.0</td>\n",
       "    </tr>\n",
       "    <tr>\n",
       "      <th>3</th>\n",
       "      <td>Thomas</td>\n",
       "      <td>40.0</td>\n",
       "    </tr>\n",
       "  </tbody>\n",
       "</table>\n",
       "</div>"
      ],
      "text/plain": [
       "    Prenom   Age\n",
       "0   Sylvie  18.0\n",
       "1   Gilles  23.0\n",
       "2  Sylvain  25.0\n",
       "3   Thomas  40.0"
      ]
     },
     "execution_count": 37,
     "metadata": {},
     "output_type": "execute_result"
    }
   ],
   "source": [
    "data = {\"Prenom\": [\"Sylvie\", \"Gilles\", \"Sylvain\", \"Thomas\"], \"Age\": [18.0, 23.0, 25.0, 40.0]}\n",
    "df = pd.DataFrame(data)\n",
    "df"
   ]
  },
  {
   "cell_type": "markdown",
   "id": "2291ae23",
   "metadata": {},
   "source": [
    "# Sélection des données\n",
    "\n",
    "## 1. Accès aux données d’un objet Series\n",
    "### Il existe principalement trois méthodes d’accès spécifiques à Pandas :\n",
    "\n",
    "### L’opérateur d’indexation [] ;\n",
    "### Les méthodes fournis par Pandas .loc() et .iloc() ;\n",
    "### Utiliser l’opérateur d’indexation.\n",
    "\n",
    "### Rappelons qu’une série possède deux indices :\n",
    "\n",
    "    Un index positionnel ou implicite, qui est toujours un RangeIndex ;\n",
    "    Un index explicite, qui peut contenir n’importe quel objet hachable.\n",
    "### Vous pouvez accéder facilement aux valeurs d’un objet Series à l’aide des étiquettes et des indices de position, comme ceci :"
   ]
  },
  {
   "cell_type": "code",
   "execution_count": 39,
   "id": "6516b661",
   "metadata": {},
   "outputs": [
    {
     "name": "stdout",
     "output_type": "stream",
     "text": [
      "19\n",
      "15\n"
     ]
    }
   ],
   "source": [
    "notes = {\"Mathématiques\": 19, \"Français\": 12, \"Dessin\": 15, \"Sciences Physiques\": 18, \"Biologie\": 17}\n",
    "ser = pd.Series(notes)\n",
    "print(ser[\"Mathématiques\"])\n",
    "print(ser[2])"
   ]
  },
  {
   "cell_type": "code",
   "execution_count": 40,
   "id": "7c1686bf",
   "metadata": {},
   "outputs": [],
   "source": [
    "fleurs = pd.Series([\"rose\", \"tournesol\", \"muguet\", \"tulipe\", \"violette\"], index=[1, 2, 3, 5, 8])"
   ]
  },
  {
   "cell_type": "markdown",
   "id": "5215fbda",
   "metadata": {},
   "source": [
    "### La bonne nouvelle, c’est que vous n’avez pas à vous poser ces questions ! En effet, pour éviter toute confusion, la bibliothèque Python Pandas fournit deux méthodes d’accès aux données :\n",
    "\n",
    "### loc() fait référence  l’étiquette.\n",
    "### iloc() fait référence à l’indice de position.\n",
    "### Si nous reprenons l’objet Series définit ci-dessus, les instructions suivantes :"
   ]
  },
  {
   "cell_type": "code",
   "execution_count": 41,
   "id": "d044102f",
   "metadata": {},
   "outputs": [
    {
     "name": "stdout",
     "output_type": "stream",
     "text": [
      "rose\n",
      "tournesol\n"
     ]
    }
   ],
   "source": [
    "print(fleurs.loc[1])\n",
    "print(fleurs.iloc[1])"
   ]
  },
  {
   "cell_type": "markdown",
   "id": "ed1421fd",
   "metadata": {},
   "source": [
    "## 2 Accès aux données d’un Dataframe\n",
    "\n",
    "### Vous pouvez utiliser les mêmes outils d’accès aux éléments d’un objet Series avec un Dataframe car un Dataframe n’est qu’un ensemble d’objets Series. La différence essentielle réside dans la dimension supplémentaire du Dataframe. Vous utiliserez l’opérateur d’indexation pour les colonnes et les méthodes d’accès .loc() et .iloc() pour les lignes.\n",
    "\n",
    "## Utilisation de l’opérateur d’indexation\n",
    "### Si vous considérez un Dataframe comme un dictionnaire dont les valeurs sont des séries, il est logique que vous puissiez accéder à ses colonnes avec l’opérateur d’indexation comme ceci :\n"
   ]
  },
  {
   "cell_type": "code",
   "execution_count": 43,
   "id": "bd790dc7",
   "metadata": {},
   "outputs": [
    {
     "data": {
      "text/html": [
       "<div>\n",
       "<style scoped>\n",
       "    .dataframe tbody tr th:only-of-type {\n",
       "        vertical-align: middle;\n",
       "    }\n",
       "\n",
       "    .dataframe tbody tr th {\n",
       "        vertical-align: top;\n",
       "    }\n",
       "\n",
       "    .dataframe thead th {\n",
       "        text-align: right;\n",
       "    }\n",
       "</style>\n",
       "<table border=\"1\" class=\"dataframe\">\n",
       "  <thead>\n",
       "    <tr style=\"text-align: right;\">\n",
       "      <th></th>\n",
       "      <th>Mathématiques</th>\n",
       "      <th>Sciences Physiques</th>\n",
       "    </tr>\n",
       "  </thead>\n",
       "  <tbody>\n",
       "    <tr>\n",
       "      <th>Gilles</th>\n",
       "      <td>20.0</td>\n",
       "      <td>7.0</td>\n",
       "    </tr>\n",
       "    <tr>\n",
       "      <th>Sylvain</th>\n",
       "      <td>17.0</td>\n",
       "      <td>10.0</td>\n",
       "    </tr>\n",
       "    <tr>\n",
       "      <th>Sylvie</th>\n",
       "      <td>18.0</td>\n",
       "      <td>15.0</td>\n",
       "    </tr>\n",
       "    <tr>\n",
       "      <th>Thomas</th>\n",
       "      <td>NaN</td>\n",
       "      <td>20.0</td>\n",
       "    </tr>\n",
       "  </tbody>\n",
       "</table>\n",
       "</div>"
      ],
      "text/plain": [
       "         Mathématiques  Sciences Physiques\n",
       "Gilles            20.0                 7.0\n",
       "Sylvain           17.0                10.0\n",
       "Sylvie            18.0                15.0\n",
       "Thomas             NaN                20.0"
      ]
     },
     "execution_count": 43,
     "metadata": {},
     "output_type": "execute_result"
    }
   ],
   "source": [
    "notes = pd.DataFrame({\n",
    "         \"Mathématiques\": pd.Series([18.0, 20.0, 17.0], index=[\"Sylvie\", \"Gilles\", \"Sylvain\"]),\n",
    "         \"Sciences Physiques\": pd.Series([15.0, 7.0, 10.0,20.0],index=[\"Sylvie\", \"Gilles\", \"Sylvain\", \"Thomas\"]),\n",
    "    })\n",
    "notes"
   ]
  },
  {
   "cell_type": "code",
   "execution_count": 44,
   "id": "5daa3095",
   "metadata": {},
   "outputs": [
    {
     "data": {
      "text/plain": [
       "Gilles     20.0\n",
       "Sylvain    17.0\n",
       "Sylvie     18.0\n",
       "Thomas      NaN\n",
       "Name: Mathématiques, dtype: float64"
      ]
     },
     "execution_count": 44,
     "metadata": {},
     "output_type": "execute_result"
    }
   ],
   "source": [
    "notes[\"Mathématiques\"]"
   ]
  },
  {
   "cell_type": "code",
   "execution_count": 46,
   "id": "a3ba2abb",
   "metadata": {},
   "outputs": [
    {
     "name": "stdout",
     "output_type": "stream",
     "text": [
      "*********************\n",
      "Mathématiques         20.0\n",
      "Sciences Physiques     7.0\n",
      "Name: Gilles, dtype: float64\n",
      "*********************\n",
      "Mathématiques         17.0\n",
      "Sciences Physiques    10.0\n",
      "Name: Sylvain, dtype: float64\n"
     ]
    }
   ],
   "source": [
    "# print(notes)\n",
    "print(\"*********************\")\n",
    "print(notes.loc[\"Gilles\"])\n",
    "print(\"*********************\")\n",
    "print(notes.iloc[1])"
   ]
  },
  {
   "cell_type": "markdown",
   "id": "3426777a",
   "metadata": {},
   "source": [
    "# Les opérations possibles sur un Dataframe\n",
    "## Les opérations de statistique (sum, mean, median, etc.)\n",
    "\n",
    "### L’objectif principal visé lorsqu’on utilise la bibliothèque pandas est d’effectuer une analyse statistique sur un ensemble de données.\n",
    "\n",
    "     L’analyse statistique peut être utilisée pour :\n",
    "\n",
    "    Faire ressortir les points clés d’un ensemble de données\n",
    "    Résumer les informations.\n",
    "    Calculer des mesures de cohérence, de pertinence ou de diversité dans les données.\n",
    "    Faire des prédictions futures basées sur des données enregistrées précédemment."
   ]
  },
  {
   "cell_type": "code",
   "execution_count": 47,
   "id": "f6285582",
   "metadata": {},
   "outputs": [
    {
     "data": {
      "text/html": [
       "<div>\n",
       "<style scoped>\n",
       "    .dataframe tbody tr th:only-of-type {\n",
       "        vertical-align: middle;\n",
       "    }\n",
       "\n",
       "    .dataframe tbody tr th {\n",
       "        vertical-align: top;\n",
       "    }\n",
       "\n",
       "    .dataframe thead th {\n",
       "        text-align: right;\n",
       "    }\n",
       "</style>\n",
       "<table border=\"1\" class=\"dataframe\">\n",
       "  <thead>\n",
       "    <tr style=\"text-align: right;\">\n",
       "      <th></th>\n",
       "      <th>Introduction au Big data</th>\n",
       "      <th>Hadoop</th>\n",
       "      <th>Spark</th>\n",
       "      <th>Java</th>\n",
       "    </tr>\n",
       "  </thead>\n",
       "  <tbody>\n",
       "    <tr>\n",
       "      <th>Sylvie</th>\n",
       "      <td>11.0</td>\n",
       "      <td>18.0</td>\n",
       "      <td>15.0</td>\n",
       "      <td>18.0</td>\n",
       "    </tr>\n",
       "    <tr>\n",
       "      <th>Gilles</th>\n",
       "      <td>15.0</td>\n",
       "      <td>20.0</td>\n",
       "      <td>7.0</td>\n",
       "      <td>20.0</td>\n",
       "    </tr>\n",
       "    <tr>\n",
       "      <th>Sylvain</th>\n",
       "      <td>10.0</td>\n",
       "      <td>17.0</td>\n",
       "      <td>10.0</td>\n",
       "      <td>10.0</td>\n",
       "    </tr>\n",
       "    <tr>\n",
       "      <th>Thomas</th>\n",
       "      <td>10.0</td>\n",
       "      <td>18.0</td>\n",
       "      <td>20.0</td>\n",
       "      <td>8.0</td>\n",
       "    </tr>\n",
       "  </tbody>\n",
       "</table>\n",
       "</div>"
      ],
      "text/plain": [
       "         Introduction au Big data  Hadoop  Spark  Java\n",
       "Sylvie                       11.0    18.0   15.0  18.0\n",
       "Gilles                       15.0    20.0    7.0  20.0\n",
       "Sylvain                      10.0    17.0   10.0  10.0\n",
       "Thomas                       10.0    18.0   20.0   8.0"
      ]
     },
     "execution_count": 47,
     "metadata": {},
     "output_type": "execute_result"
    }
   ],
   "source": [
    "df_notes = pd.DataFrame({\n",
    "         \"Introduction au Big data\":  pd.Series([11.0, 15.0, 10.0,10.0],index=[\"Sylvie\", \"Gilles\", \"Sylvain\", \"Thomas\"]),\n",
    "         \"Hadoop\": pd.Series([18.0, 20.0, 17.0,18.0], index=[\"Sylvie\", \"Gilles\", \"Sylvain\", \"Thomas\"]),\n",
    "         \"Spark\": pd.Series([15.0, 7.0, 10.0,20.0],index=[\"Sylvie\", \"Gilles\", \"Sylvain\", \"Thomas\"]),\n",
    "         \"Java\": pd.Series([18.0, 20.0, 10.0,8.0],index=[\"Sylvie\", \"Gilles\", \"Sylvain\", \"Thomas\"]),\n",
    "    })\n",
    "df_notes"
   ]
  },
  {
   "cell_type": "code",
   "execution_count": 48,
   "id": "2b0e2746",
   "metadata": {},
   "outputs": [
    {
     "data": {
      "text/plain": [
       "Sylvie     62.0\n",
       "Gilles     62.0\n",
       "Sylvain    47.0\n",
       "Thomas     56.0\n",
       "dtype: float64"
      ]
     },
     "execution_count": 48,
     "metadata": {},
     "output_type": "execute_result"
    }
   ],
   "source": [
    "df_notes.sum(axis=1)"
   ]
  },
  {
   "cell_type": "code",
   "execution_count": 49,
   "id": "0809b966",
   "metadata": {},
   "outputs": [
    {
     "data": {
      "text/plain": [
       "Sylvie     15.50\n",
       "Gilles     15.50\n",
       "Sylvain    11.75\n",
       "Thomas     14.00\n",
       "dtype: float64"
      ]
     },
     "execution_count": 49,
     "metadata": {},
     "output_type": "execute_result"
    }
   ],
   "source": [
    "df_notes.mean(axis=1)"
   ]
  },
  {
   "cell_type": "code",
   "execution_count": 50,
   "id": "1c455ed6",
   "metadata": {},
   "outputs": [
    {
     "data": {
      "text/plain": [
       "Introduction au Big data    15.0\n",
       "Hadoop                      20.0\n",
       "Spark                       20.0\n",
       "Java                        20.0\n",
       "dtype: float64"
      ]
     },
     "execution_count": 50,
     "metadata": {},
     "output_type": "execute_result"
    }
   ],
   "source": [
    "df_notes.max(axis=0)"
   ]
  },
  {
   "cell_type": "code",
   "execution_count": 51,
   "id": "9f555ed5",
   "metadata": {},
   "outputs": [
    {
     "name": "stdout",
     "output_type": "stream",
     "text": [
      "       Introduction au Big data     Hadoop      Spark       Java\n",
      "count                  4.000000   4.000000   4.000000   4.000000\n",
      "mean                  11.500000  18.250000  13.000000  14.000000\n",
      "std                    2.380476   1.258306   5.715476   5.887841\n",
      "min                   10.000000  17.000000   7.000000   8.000000\n",
      "25%                   10.000000  17.750000   9.250000   9.500000\n",
      "50%                   10.500000  18.000000  12.500000  14.000000\n",
      "75%                   12.000000  18.500000  16.250000  18.500000\n",
      "max                   15.000000  20.000000  20.000000  20.000000\n"
     ]
    }
   ],
   "source": [
    "print(df_notes.describe())"
   ]
  },
  {
   "cell_type": "markdown",
   "id": "298fda8b",
   "metadata": {},
   "source": [
    "# Les opérations de filtrage, groupage et de concaténation\n",
    "### L’opération de filtrage\n",
    "#### Les Dataframe Pandas permettent l’indexation booléenne, qui est un moyen assez efficace de filtrer un dataframe pour plusieurs conditions. Dans l’indexation booléenne, les vecteurs booléens générés en fonction des conditions sont utilisés pour filtrer les données. Les conditions multiples impliquant les opérateurs | (pour l’opérateur ou), & (pour l’opérateur et), et ~ (pour l’opération non) peuvent être regroupées à l’aide de parenthèses ().\n",
    "\n"
   ]
  },
  {
   "cell_type": "code",
   "execution_count": 52,
   "id": "cf9f64c7",
   "metadata": {},
   "outputs": [
    {
     "name": "stdout",
     "output_type": "stream",
     "text": [
      "Sylvie    18.0\n",
      "Gilles    20.0\n",
      "Name: Java, dtype: float64\n"
     ]
    }
   ],
   "source": [
    "resultat = df_notes[(df_notes['Java']>=15)]\n",
    "print(resultat.Java)"
   ]
  },
  {
   "cell_type": "code",
   "execution_count": 53,
   "id": "b2cb3134",
   "metadata": {},
   "outputs": [
    {
     "name": "stdout",
     "output_type": "stream",
     "text": [
      "        Spark  Java\n",
      "Sylvie   15.0  18.0\n"
     ]
    }
   ],
   "source": [
    "resultat = df_notes[(df_notes['Java']>=15)&(df_notes['Spark']>=10)]\n",
    "print(resultat[[\"Spark\", \"Java\"]])"
   ]
  },
  {
   "cell_type": "markdown",
   "id": "f9c6a084",
   "metadata": {},
   "source": [
    "## L’opération de groupage"
   ]
  },
  {
   "cell_type": "code",
   "execution_count": 54,
   "id": "18b990a5",
   "metadata": {},
   "outputs": [
    {
     "data": {
      "text/html": [
       "<div>\n",
       "<style scoped>\n",
       "    .dataframe tbody tr th:only-of-type {\n",
       "        vertical-align: middle;\n",
       "    }\n",
       "\n",
       "    .dataframe tbody tr th {\n",
       "        vertical-align: top;\n",
       "    }\n",
       "\n",
       "    .dataframe thead th {\n",
       "        text-align: right;\n",
       "    }\n",
       "</style>\n",
       "<table border=\"1\" class=\"dataframe\">\n",
       "  <thead>\n",
       "    <tr style=\"text-align: right;\">\n",
       "      <th></th>\n",
       "      <th>Région</th>\n",
       "      <th>Université</th>\n",
       "      <th>Nom</th>\n",
       "      <th>Spark</th>\n",
       "      <th>Scala</th>\n",
       "    </tr>\n",
       "  </thead>\n",
       "  <tbody>\n",
       "    <tr>\n",
       "      <th>0</th>\n",
       "      <td>Nouvelle-Aquitaine</td>\n",
       "      <td>Université de Poitiers</td>\n",
       "      <td>Gilles</td>\n",
       "      <td>14.0</td>\n",
       "      <td>15.0</td>\n",
       "    </tr>\n",
       "    <tr>\n",
       "      <th>1</th>\n",
       "      <td>Normandie</td>\n",
       "      <td>Université de Rouen</td>\n",
       "      <td>Laura</td>\n",
       "      <td>14.5</td>\n",
       "      <td>10.0</td>\n",
       "    </tr>\n",
       "    <tr>\n",
       "      <th>2</th>\n",
       "      <td>Normandie</td>\n",
       "      <td>Université de Rouen</td>\n",
       "      <td>Sylvain</td>\n",
       "      <td>15.0</td>\n",
       "      <td>11.0</td>\n",
       "    </tr>\n",
       "    <tr>\n",
       "      <th>3</th>\n",
       "      <td>Ile-de-France</td>\n",
       "      <td>Université de Paris</td>\n",
       "      <td>Thomas</td>\n",
       "      <td>7.5</td>\n",
       "      <td>9.0</td>\n",
       "    </tr>\n",
       "    <tr>\n",
       "      <th>4</th>\n",
       "      <td>Ile-de-France</td>\n",
       "      <td>Université de Paris</td>\n",
       "      <td>Sylvie</td>\n",
       "      <td>18.0</td>\n",
       "      <td>10.5</td>\n",
       "    </tr>\n",
       "    <tr>\n",
       "      <th>5</th>\n",
       "      <td>Grand Est</td>\n",
       "      <td>Université de Reims</td>\n",
       "      <td>luc</td>\n",
       "      <td>20.0</td>\n",
       "      <td>18.5</td>\n",
       "    </tr>\n",
       "    <tr>\n",
       "      <th>6</th>\n",
       "      <td>Grand Est</td>\n",
       "      <td>Université de Reims</td>\n",
       "      <td>Marc</td>\n",
       "      <td>19.0</td>\n",
       "      <td>16.0</td>\n",
       "    </tr>\n",
       "    <tr>\n",
       "      <th>7</th>\n",
       "      <td>Grand Est</td>\n",
       "      <td>Université de Reims</td>\n",
       "      <td>Hugo</td>\n",
       "      <td>14.0</td>\n",
       "      <td>16.0</td>\n",
       "    </tr>\n",
       "  </tbody>\n",
       "</table>\n",
       "</div>"
      ],
      "text/plain": [
       "               Région              Université      Nom  Spark  Scala\n",
       "0  Nouvelle-Aquitaine  Université de Poitiers   Gilles   14.0   15.0\n",
       "1           Normandie     Université de Rouen    Laura   14.5   10.0\n",
       "2           Normandie     Université de Rouen  Sylvain   15.0   11.0\n",
       "3       Ile-de-France     Université de Paris   Thomas    7.5    9.0\n",
       "4       Ile-de-France     Université de Paris   Sylvie   18.0   10.5\n",
       "5           Grand Est     Université de Reims      luc   20.0   18.5\n",
       "6           Grand Est     Université de Reims     Marc   19.0   16.0\n",
       "7           Grand Est     Université de Reims     Hugo   14.0   16.0"
      ]
     },
     "execution_count": 54,
     "metadata": {},
     "output_type": "execute_result"
    }
   ],
   "source": [
    "notes = {'Région': ['Nouvelle-Aquitaine','Normandie','Normandie',\n",
    "                   'Ile-de-France','Ile-de-France','Grand Est','Grand Est','Grand Est'], \n",
    "          'Université': ['Université de Poitiers','Université de Rouen','Université de Rouen',\n",
    "                     'Université de Paris','Université de Paris','Université de Reims','Université de Reims','Université de Reims'],             \n",
    "          'Nom': ['Gilles','Laura','Sylvain', \n",
    "                   'Thomas','Sylvie','luc','Marc','Hugo'], \n",
    "          'Spark': [14,14.5, 15,7.5,18,20,19,14],\n",
    "          'Scala': [15,10,11,9,10.5,18.5,16,16]}\n",
    "\n",
    "df = pd.DataFrame(notes, columns = \n",
    "                  ['Région', 'Université', 'Nom', \n",
    "                   'Spark', 'Scala'])\n",
    "df"
   ]
  },
  {
   "cell_type": "code",
   "execution_count": 56,
   "id": "85c33391",
   "metadata": {},
   "outputs": [
    {
     "name": "stdout",
     "output_type": "stream",
     "text": [
      "Grand Est\n",
      "**********************\n",
      "      Région           Université   Nom  Spark  Scala\n",
      "5  Grand Est  Université de Reims   luc   20.0   18.5\n",
      "6  Grand Est  Université de Reims  Marc   19.0   16.0\n",
      "7  Grand Est  Université de Reims  Hugo   14.0   16.0\n",
      "\n",
      "Ile-de-France\n",
      "**********************\n",
      "          Région           Université     Nom  Spark  Scala\n",
      "3  Ile-de-France  Université de Paris  Thomas    7.5    9.0\n",
      "4  Ile-de-France  Université de Paris  Sylvie   18.0   10.5\n",
      "\n",
      "Normandie\n",
      "**********************\n",
      "      Région           Université      Nom  Spark  Scala\n",
      "1  Normandie  Université de Rouen    Laura   14.5   10.0\n",
      "2  Normandie  Université de Rouen  Sylvain   15.0   11.0\n",
      "\n",
      "Nouvelle-Aquitaine\n",
      "**********************\n",
      "               Région              Université     Nom  Spark  Scala\n",
      "0  Nouvelle-Aquitaine  Université de Poitiers  Gilles   14.0   15.0\n",
      "\n"
     ]
    }
   ],
   "source": [
    "gp = df.groupby('Région')\n",
    "\n",
    "for region, group in gp:\n",
    "    print(region)\n",
    "    print(\"**********************\")\n",
    "    print(group)\n",
    "    print()"
   ]
  },
  {
   "cell_type": "code",
   "execution_count": 57,
   "id": "86859d97",
   "metadata": {},
   "outputs": [
    {
     "name": "stderr",
     "output_type": "stream",
     "text": [
      "/var/folders/0z/dqqp0zrn21b27nncwdsn4qsm0000gq/T/ipykernel_4870/2854514904.py:1: FutureWarning: The default value of numeric_only in DataFrameGroupBy.mean is deprecated. In a future version, numeric_only will default to False. Either specify numeric_only or select only columns which should be valid for the function.\n",
      "  df.groupby(['Région', 'Université']).mean()\n"
     ]
    },
    {
     "data": {
      "text/html": [
       "<div>\n",
       "<style scoped>\n",
       "    .dataframe tbody tr th:only-of-type {\n",
       "        vertical-align: middle;\n",
       "    }\n",
       "\n",
       "    .dataframe tbody tr th {\n",
       "        vertical-align: top;\n",
       "    }\n",
       "\n",
       "    .dataframe thead th {\n",
       "        text-align: right;\n",
       "    }\n",
       "</style>\n",
       "<table border=\"1\" class=\"dataframe\">\n",
       "  <thead>\n",
       "    <tr style=\"text-align: right;\">\n",
       "      <th></th>\n",
       "      <th></th>\n",
       "      <th>Spark</th>\n",
       "      <th>Scala</th>\n",
       "    </tr>\n",
       "    <tr>\n",
       "      <th>Région</th>\n",
       "      <th>Université</th>\n",
       "      <th></th>\n",
       "      <th></th>\n",
       "    </tr>\n",
       "  </thead>\n",
       "  <tbody>\n",
       "    <tr>\n",
       "      <th>Grand Est</th>\n",
       "      <th>Université de Reims</th>\n",
       "      <td>17.666667</td>\n",
       "      <td>16.833333</td>\n",
       "    </tr>\n",
       "    <tr>\n",
       "      <th>Ile-de-France</th>\n",
       "      <th>Université de Paris</th>\n",
       "      <td>12.750000</td>\n",
       "      <td>9.750000</td>\n",
       "    </tr>\n",
       "    <tr>\n",
       "      <th>Normandie</th>\n",
       "      <th>Université de Rouen</th>\n",
       "      <td>14.750000</td>\n",
       "      <td>10.500000</td>\n",
       "    </tr>\n",
       "    <tr>\n",
       "      <th>Nouvelle-Aquitaine</th>\n",
       "      <th>Université de Poitiers</th>\n",
       "      <td>14.000000</td>\n",
       "      <td>15.000000</td>\n",
       "    </tr>\n",
       "  </tbody>\n",
       "</table>\n",
       "</div>"
      ],
      "text/plain": [
       "                                               Spark      Scala\n",
       "Région             Université                                  \n",
       "Grand Est          Université de Reims     17.666667  16.833333\n",
       "Ile-de-France      Université de Paris     12.750000   9.750000\n",
       "Normandie          Université de Rouen     14.750000  10.500000\n",
       "Nouvelle-Aquitaine Université de Poitiers  14.000000  15.000000"
      ]
     },
     "execution_count": 57,
     "metadata": {},
     "output_type": "execute_result"
    }
   ],
   "source": [
    "df.groupby(['Région', 'Université']).mean()"
   ]
  },
  {
   "cell_type": "markdown",
   "id": "ce6eb27d",
   "metadata": {},
   "source": [
    "# Lire les fichiers avec pandas\n"
   ]
  },
  {
   "cell_type": "code",
   "execution_count": null,
   "id": "691df2b7",
   "metadata": {},
   "outputs": [],
   "source": []
  }
 ],
 "metadata": {
  "kernelspec": {
   "display_name": "Python 3 (ipykernel)",
   "language": "python",
   "name": "python3"
  },
  "language_info": {
   "codemirror_mode": {
    "name": "ipython",
    "version": 3
   },
   "file_extension": ".py",
   "mimetype": "text/x-python",
   "name": "python",
   "nbconvert_exporter": "python",
   "pygments_lexer": "ipython3",
   "version": "3.10.9"
  }
 },
 "nbformat": 4,
 "nbformat_minor": 5
}
