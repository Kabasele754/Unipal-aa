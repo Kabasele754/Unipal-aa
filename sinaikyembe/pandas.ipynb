{
 "cells": [
  {
   "cell_type": "code",
   "execution_count": 107,
   "id": "4de3f973",
   "metadata": {},
   "outputs": [],
   "source": [
    "# pour import pandas on fait  \n",
    "import pandas as pd\n",
    "import numpy as np"
   ]
  },
  {
   "cell_type": "code",
   "execution_count": 108,
   "id": "7c17c073",
   "metadata": {},
   "outputs": [
    {
     "data": {
      "text/plain": [
       "Index(['Reseau', 'AI', 'Math'], dtype='object')"
      ]
     },
     "execution_count": 108,
     "metadata": {},
     "output_type": "execute_result"
    }
   ],
   "source": [
    "# pd.Series(data,index)\n",
    "notes = {\n",
    "    \"Reseau\":[12,8],\n",
    "    \"AI\":[20,3,6],\n",
    "    \"Math\":[30,23,10]\n",
    "}\n",
    "note_pd = pd.Series(notes)\n",
    "note_pd\n",
    "note_pd.index"
   ]
  },
  {
   "cell_type": "code",
   "execution_count": 109,
   "id": "bf451a88",
   "metadata": {},
   "outputs": [
    {
     "data": {
      "text/plain": [
       "<PandasArray>\n",
       "[[12, 8], [20, 3, 6], [30, 23, 10]]\n",
       "Length: 3, dtype: object"
      ]
     },
     "execution_count": 109,
     "metadata": {},
     "output_type": "execute_result"
    }
   ],
   "source": [
    "note_pd.array"
   ]
  },
  {
   "cell_type": "code",
   "execution_count": 110,
   "id": "30728001",
   "metadata": {},
   "outputs": [
    {
     "data": {
      "text/plain": [
       "False"
      ]
     },
     "execution_count": 110,
     "metadata": {},
     "output_type": "execute_result"
    }
   ],
   "source": [
    "a=\"physique\" in note_pd\n",
    "a"
   ]
  },
  {
   "cell_type": "code",
   "execution_count": 111,
   "id": "7f33284f",
   "metadata": {},
   "outputs": [
    {
     "data": {
      "text/plain": [
       "Reseau      12.0\n",
       "AI          20.0\n",
       "Math        30.0\n",
       "physique     NaN\n",
       "dtype: float64"
      ]
     },
     "execution_count": 111,
     "metadata": {},
     "output_type": "execute_result"
    }
   ],
   "source": [
    "notes = {\n",
    "    \"Reseau\":12,\n",
    "    \"AI\":20,\n",
    "    \"Math\":30\n",
    "}\n",
    "note_pd = pd.Series(notes,index=['Reseau','AI','Math','physique'])\n",
    "note_pd"
   ]
  },
  {
   "cell_type": "code",
   "execution_count": 112,
   "id": "72404a0f",
   "metadata": {},
   "outputs": [
    {
     "data": {
      "text/plain": [
       "Rdc        89000\n",
       "chine      67770\n",
       "Zambie    544480\n",
       "Name: nombre de la population, dtype: int32"
      ]
     },
     "execution_count": 112,
     "metadata": {},
     "output_type": "execute_result"
    }
   ],
   "source": [
    "population = np.array([89000,67770,544480])\n",
    "pays=[\"Rdc\",\"chine\",\"Zambie\"]\n",
    "\n",
    "pp_pd=pd.Series(population,index=pays,name=\"nombre de la population\")\n",
    "pp_pd"
   ]
  },
  {
   "cell_type": "code",
   "execution_count": 113,
   "id": "bc406707",
   "metadata": {},
   "outputs": [
    {
     "data": {
      "text/plain": [
       "Rdc        89000\n",
       "chine      67770\n",
       "Zambie    544480\n",
       "Name: NBR population, dtype: int32"
      ]
     },
     "execution_count": 113,
     "metadata": {},
     "output_type": "execute_result"
    }
   ],
   "source": [
    "# renome Series\n",
    "pp_pd2 = pp_pd.rename(\"NBR population\")\n",
    "pp_pd2"
   ]
  },
  {
   "cell_type": "code",
   "execution_count": 114,
   "id": "b6be050c",
   "metadata": {},
   "outputs": [
    {
     "data": {
      "text/html": [
       "<div>\n",
       "<style scoped>\n",
       "    .dataframe tbody tr th:only-of-type {\n",
       "        vertical-align: middle;\n",
       "    }\n",
       "\n",
       "    .dataframe tbody tr th {\n",
       "        vertical-align: top;\n",
       "    }\n",
       "\n",
       "    .dataframe thead th {\n",
       "        text-align: right;\n",
       "    }\n",
       "</style>\n",
       "<table border=\"1\" class=\"dataframe\">\n",
       "  <thead>\n",
       "    <tr style=\"text-align: right;\">\n",
       "      <th></th>\n",
       "      <th>Reseau</th>\n",
       "      <th>AI</th>\n",
       "      <th>Math</th>\n",
       "    </tr>\n",
       "  </thead>\n",
       "  <tbody>\n",
       "    <tr>\n",
       "      <th>ianis</th>\n",
       "      <td>12</td>\n",
       "      <td>16</td>\n",
       "      <td>21</td>\n",
       "    </tr>\n",
       "    <tr>\n",
       "      <th>ruth</th>\n",
       "      <td>8</td>\n",
       "      <td>13</td>\n",
       "      <td>23</td>\n",
       "    </tr>\n",
       "    <tr>\n",
       "      <th>gracia</th>\n",
       "      <td>15</td>\n",
       "      <td>16</td>\n",
       "      <td>10</td>\n",
       "    </tr>\n",
       "    <tr>\n",
       "      <th>tryphene</th>\n",
       "      <td>16</td>\n",
       "      <td>23</td>\n",
       "      <td>31</td>\n",
       "    </tr>\n",
       "  </tbody>\n",
       "</table>\n",
       "</div>"
      ],
      "text/plain": [
       "          Reseau  AI  Math\n",
       "ianis         12  16    21\n",
       "ruth           8  13    23\n",
       "gracia        15  16    10\n",
       "tryphene      16  23    31"
      ]
     },
     "execution_count": 114,
     "metadata": {},
     "output_type": "execute_result"
    }
   ],
   "source": [
    "# dataFrame\n",
    "\n",
    "notes = {\n",
    "    \"Reseau\": pd.Series([12,8,15,16],index=[\"ianis\",\"ruth\",\"gracia\",\"tryphene\"]),\n",
    "    \"AI\": pd.Series([16,13,16,23],index=[\"ianis\",\"ruth\",\"gracia\",\"tryphene\"]),\n",
    "    \"Math\": pd.Series([21,23,10,31],index=[\"ianis\",\"ruth\",\"gracia\",\"tryphene\"])\n",
    "}\n",
    "df= pd.DataFrame(notes)\n",
    "df"
   ]
  },
  {
   "cell_type": "code",
   "execution_count": 115,
   "id": "ca51d035",
   "metadata": {},
   "outputs": [
    {
     "data": {
      "text/plain": [
       "Index(['ianis', 'ruth', 'gracia', 'tryphene'], dtype='object')"
      ]
     },
     "execution_count": 115,
     "metadata": {},
     "output_type": "execute_result"
    }
   ],
   "source": [
    "df.index"
   ]
  },
  {
   "cell_type": "code",
   "execution_count": 116,
   "id": "d8f20ee6",
   "metadata": {},
   "outputs": [
    {
     "data": {
      "text/plain": [
       "Index(['Reseau', 'AI', 'Math'], dtype='object')"
      ]
     },
     "execution_count": 116,
     "metadata": {},
     "output_type": "execute_result"
    }
   ],
   "source": [
    "df.columns"
   ]
  },
  {
   "cell_type": "code",
   "execution_count": 117,
   "id": "047a04cf",
   "metadata": {},
   "outputs": [
    {
     "data": {
      "text/html": [
       "<div>\n",
       "<style scoped>\n",
       "    .dataframe tbody tr th:only-of-type {\n",
       "        vertical-align: middle;\n",
       "    }\n",
       "\n",
       "    .dataframe tbody tr th {\n",
       "        vertical-align: top;\n",
       "    }\n",
       "\n",
       "    .dataframe thead th {\n",
       "        text-align: right;\n",
       "    }\n",
       "</style>\n",
       "<table border=\"1\" class=\"dataframe\">\n",
       "  <thead>\n",
       "    <tr style=\"text-align: right;\">\n",
       "      <th></th>\n",
       "      <th>prenom</th>\n",
       "      <th>age</th>\n",
       "    </tr>\n",
       "  </thead>\n",
       "  <tbody>\n",
       "    <tr>\n",
       "      <th>0</th>\n",
       "      <td>ianis</td>\n",
       "      <td>24</td>\n",
       "    </tr>\n",
       "    <tr>\n",
       "      <th>1</th>\n",
       "      <td>ruth</td>\n",
       "      <td>21</td>\n",
       "    </tr>\n",
       "    <tr>\n",
       "      <th>2</th>\n",
       "      <td>gracia</td>\n",
       "      <td>12</td>\n",
       "    </tr>\n",
       "    <tr>\n",
       "      <th>3</th>\n",
       "      <td>tryphene</td>\n",
       "      <td>16</td>\n",
       "    </tr>\n",
       "  </tbody>\n",
       "</table>\n",
       "</div>"
      ],
      "text/plain": [
       "     prenom  age\n",
       "0     ianis   24\n",
       "1      ruth   21\n",
       "2    gracia   12\n",
       "3  tryphene   16"
      ]
     },
     "execution_count": 117,
     "metadata": {},
     "output_type": "execute_result"
    }
   ],
   "source": [
    " data= {\n",
    "       \"prenom\": [\"ianis\",\"ruth\",\"gracia\",\"tryphene\"], \n",
    "        \"age\": [24,21,12,16]\n",
    "}\n",
    "data_pd= pd.DataFrame(data)\n",
    "data_pd"
   ]
  },
  {
   "cell_type": "markdown",
   "id": "83db946a",
   "metadata": {},
   "source": [
    "# Acces aux donnees d'un Series"
   ]
  },
  {
   "cell_type": "markdown",
   "id": "78fbf6f0",
   "metadata": {},
   "source": [
    "# operateur d'indexation"
   ]
  },
  {
   "cell_type": "markdown",
   "id": "4d4b156e",
   "metadata": {},
   "source": [
    "# . loc()"
   ]
  },
  {
   "cell_type": "markdown",
   "id": "e19f317c",
   "metadata": {},
   "source": [
    "# .iloc"
   ]
  },
  {
   "cell_type": "code",
   "execution_count": 121,
   "id": "8257970e",
   "metadata": {},
   "outputs": [
    {
     "data": {
      "text/plain": [
       "Math      29\n",
       "AI        16\n",
       "Reseau    15\n",
       "dtype: int64"
      ]
     },
     "execution_count": 121,
     "metadata": {},
     "output_type": "execute_result"
    }
   ],
   "source": [
    "notes = {\"Math\":29,\"AI\":16,\"Reseau\":15}\n",
    "df=pd.Series(notes)\n",
    "df\n",
    "#print(df[\"Math\":\"AI\"])"
   ]
  },
  {
   "cell_type": "code",
   "execution_count": 124,
   "id": "c4ee787d",
   "metadata": {},
   "outputs": [
    {
     "name": "stdout",
     "output_type": "stream",
     "text": [
      "Math    29\n",
      "AI      16\n",
      "dtype: int64\n"
     ]
    }
   ],
   "source": [
    "notes = {\"Math\":29,\"AI\":16,\"Reseau\":15}\n",
    "df=pd.Series(notes)\n",
    "print(df[\"Math\":\"AI\"])"
   ]
  },
  {
   "cell_type": "code",
   "execution_count": 128,
   "id": "60f95595",
   "metadata": {},
   "outputs": [
    {
     "ename": "NameError",
     "evalue": "name 'd' is not defined",
     "output_type": "error",
     "traceback": [
      "\u001b[1;31m---------------------------------------------------------------------------\u001b[0m",
      "\u001b[1;31mNameError\u001b[0m                                 Traceback (most recent call last)",
      "Cell \u001b[1;32mIn[128], line 1\u001b[0m\n\u001b[1;32m----> 1\u001b[0m \u001b[43md\u001b[49m[\u001b[38;5;241m1\u001b[39m]\n\u001b[0;32m      2\u001b[0m \u001b[38;5;28mprint\u001b[39m(df[\u001b[38;5;241m1\u001b[39m:])\n",
      "\u001b[1;31mNameError\u001b[0m: name 'd' is not defined"
     ]
    }
   ],
   "source": [
    "d[1]\n",
    "print(df[1:])"
   ]
  },
  {
   "cell_type": "code",
   "execution_count": null,
   "id": "f31d031d",
   "metadata": {},
   "outputs": [],
   "source": []
  },
  {
   "cell_type": "code",
   "execution_count": null,
   "id": "2bfd8046",
   "metadata": {},
   "outputs": [],
   "source": []
  }
 ],
 "metadata": {
  "kernelspec": {
   "display_name": "Python 3 (ipykernel)",
   "language": "python",
   "name": "python3"
  },
  "language_info": {
   "codemirror_mode": {
    "name": "ipython",
    "version": 3
   },
   "file_extension": ".py",
   "mimetype": "text/x-python",
   "name": "python",
   "nbconvert_exporter": "python",
   "pygments_lexer": "ipython3",
   "version": "3.10.9"
  }
 },
 "nbformat": 4,
 "nbformat_minor": 5
}
