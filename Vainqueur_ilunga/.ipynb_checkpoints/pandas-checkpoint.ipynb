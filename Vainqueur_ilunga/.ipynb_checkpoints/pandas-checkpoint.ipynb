{
 "cells": [
  {
   "cell_type": "code",
   "execution_count": 1,
   "id": "1d3d3d70",
   "metadata": {},
   "outputs": [],
   "source": [
    "# import\n",
    "import pandas as pd\n",
    "import numpy as np"
   ]
  },
  {
   "cell_type": "code",
   "execution_count": 2,
   "id": "7d53ef63",
   "metadata": {},
   "outputs": [
    {
     "data": {
      "text/plain": [
       "Reseau    [12, 8, 15]\n",
       "AI         [20, 3, 6]\n",
       "Math       [5, 9, 10]\n",
       "dtype: object"
      ]
     },
     "execution_count": 2,
     "metadata": {},
     "output_type": "execute_result"
    }
   ],
   "source": [
    "# pd.Series(data, index)\n",
    "notes = {\n",
    "    \"Reseau\":[12,8,15],\n",
    "    \"AI\":[20,3,6],\n",
    "    \"Math\":[5,9,10]\n",
    "}\n",
    "note_pd = pd.Series(notes)\n",
    "note_pd"
   ]
  },
  {
   "cell_type": "code",
   "execution_count": 3,
   "id": "14ab7d05",
   "metadata": {},
   "outputs": [
    {
     "data": {
      "text/plain": [
       "Index(['Reseau', 'AI', 'Math'], dtype='object')"
      ]
     },
     "execution_count": 3,
     "metadata": {},
     "output_type": "execute_result"
    }
   ],
   "source": [
    "#pour recuperer les index qui sont les clés\n",
    "note_pd.index"
   ]
  },
  {
   "cell_type": "code",
   "execution_count": 4,
   "id": "c2c96c89",
   "metadata": {},
   "outputs": [
    {
     "data": {
      "text/plain": [
       "<PandasArray>\n",
       "[[12, 8, 15], [20, 3, 6], [5, 9, 10]]\n",
       "Length: 3, dtype: object"
      ]
     },
     "execution_count": 4,
     "metadata": {},
     "output_type": "execute_result"
    }
   ],
   "source": [
    "#pour recuperer les données qui sont les valeurs\n",
    "note_pd.array"
   ]
  },
  {
   "cell_type": "code",
   "execution_count": 5,
   "id": "6d92d6e8",
   "metadata": {},
   "outputs": [
    {
     "data": {
      "text/plain": [
       "False"
      ]
     },
     "execution_count": 5,
     "metadata": {},
     "output_type": "execute_result"
    }
   ],
   "source": [
    "a= \"Physique\" in note_pd\n",
    "a"
   ]
  },
  {
   "cell_type": "code",
   "execution_count": 6,
   "id": "c2340acb",
   "metadata": {},
   "outputs": [
    {
     "data": {
      "text/plain": [
       "Reseau      12.0\n",
       "AI          20.0\n",
       "Math         5.0\n",
       "physique     NaN\n",
       "dtype: float64"
      ]
     },
     "execution_count": 6,
     "metadata": {},
     "output_type": "execute_result"
    }
   ],
   "source": [
    "notes = {\n",
    "    \"Reseau\":12,\n",
    "    \"AI\":20,\n",
    "    \"Math\":5,\n",
    "}\n",
    "note_pd = pd.Series(notes, index=[\"Reseau\",\"AI\",\"Math\",\"physique\"])\n",
    "note_pd"
   ]
  },
  {
   "cell_type": "code",
   "execution_count": 7,
   "id": "d4096463",
   "metadata": {},
   "outputs": [
    {
     "data": {
      "text/plain": [
       "rdc      523\n",
       "congo    565\n",
       "rca      256\n",
       "Name: Pays et nombre de la population, dtype: int32"
      ]
     },
     "execution_count": 7,
     "metadata": {},
     "output_type": "execute_result"
    }
   ],
   "source": [
    "pop = np.array([523,565,256])\n",
    "pays=[\"rdc\",\"congo\",\"rca\"]\n",
    "pop_pay= pd.Series(pop, pays, name=\"Pays et nombre de la population\")\n",
    "pop_pay"
   ]
  },
  {
   "cell_type": "code",
   "execution_count": 8,
   "id": "c123a36e",
   "metadata": {},
   "outputs": [
    {
     "data": {
      "text/plain": [
       "rdc      523\n",
       "congo    565\n",
       "rca      256\n",
       "Name: pays, dtype: int32"
      ]
     },
     "execution_count": 8,
     "metadata": {},
     "output_type": "execute_result"
    }
   ],
   "source": [
    "# rename series\n",
    "pay_pop = pop_pay.rename(\"pays\")\n",
    "pay_pop"
   ]
  },
  {
   "cell_type": "markdown",
   "id": "3b0674a8",
   "metadata": {},
   "source": [
    "# dataframe"
   ]
  },
  {
   "cell_type": "code",
   "execution_count": 9,
   "id": "e51e4b99",
   "metadata": {},
   "outputs": [
    {
     "data": {
      "text/html": [
       "<div>\n",
       "<style scoped>\n",
       "    .dataframe tbody tr th:only-of-type {\n",
       "        vertical-align: middle;\n",
       "    }\n",
       "\n",
       "    .dataframe tbody tr th {\n",
       "        vertical-align: top;\n",
       "    }\n",
       "\n",
       "    .dataframe thead th {\n",
       "        text-align: right;\n",
       "    }\n",
       "</style>\n",
       "<table border=\"1\" class=\"dataframe\">\n",
       "  <thead>\n",
       "    <tr style=\"text-align: right;\">\n",
       "      <th></th>\n",
       "      <th>Reseaux</th>\n",
       "      <th>AI</th>\n",
       "      <th>Math</th>\n",
       "    </tr>\n",
       "  </thead>\n",
       "  <tbody>\n",
       "    <tr>\n",
       "      <th>franck</th>\n",
       "      <td>12</td>\n",
       "      <td>20</td>\n",
       "      <td>5</td>\n",
       "    </tr>\n",
       "    <tr>\n",
       "      <th>fim</th>\n",
       "      <td>8</td>\n",
       "      <td>3</td>\n",
       "      <td>9</td>\n",
       "    </tr>\n",
       "    <tr>\n",
       "      <th>vainqueur</th>\n",
       "      <td>15</td>\n",
       "      <td>6</td>\n",
       "      <td>10</td>\n",
       "    </tr>\n",
       "  </tbody>\n",
       "</table>\n",
       "</div>"
      ],
      "text/plain": [
       "           Reseaux  AI  Math\n",
       "franck          12  20     5\n",
       "fim              8   3     9\n",
       "vainqueur       15   6    10"
      ]
     },
     "execution_count": 9,
     "metadata": {},
     "output_type": "execute_result"
    }
   ],
   "source": [
    "notes = {\n",
    "    \"Reseaux\":pd.Series([12,8,15], [\"franck\", \"fim\", \"vainqueur\"]),\n",
    "    \"AI\":pd.Series([20,3,6], [\"franck\", \"fim\", \"vainqueur\"]),\n",
    "    \"Math\":pd.Series([5,9,10] ,[\"franck\", \"fim\", \"vainqueur\"]),\n",
    "}\n",
    "notes_df= pd.DataFrame(notes)\n",
    "notes_df"
   ]
  },
  {
   "cell_type": "code",
   "execution_count": 10,
   "id": "ebf0e751",
   "metadata": {},
   "outputs": [
    {
     "data": {
      "text/plain": [
       "Index(['franck', 'fim', 'vainqueur'], dtype='object')"
      ]
     },
     "execution_count": 10,
     "metadata": {},
     "output_type": "execute_result"
    }
   ],
   "source": [
    "notes_df.index"
   ]
  },
  {
   "cell_type": "code",
   "execution_count": 11,
   "id": "3cd34980",
   "metadata": {},
   "outputs": [
    {
     "data": {
      "text/plain": [
       "Index(['Reseaux', 'AI', 'Math'], dtype='object')"
      ]
     },
     "execution_count": 11,
     "metadata": {},
     "output_type": "execute_result"
    }
   ],
   "source": [
    "notes_df.columns"
   ]
  },
  {
   "cell_type": "code",
   "execution_count": 12,
   "id": "db49246b",
   "metadata": {},
   "outputs": [
    {
     "data": {
      "text/html": [
       "<div>\n",
       "<style scoped>\n",
       "    .dataframe tbody tr th:only-of-type {\n",
       "        vertical-align: middle;\n",
       "    }\n",
       "\n",
       "    .dataframe tbody tr th {\n",
       "        vertical-align: top;\n",
       "    }\n",
       "\n",
       "    .dataframe thead th {\n",
       "        text-align: right;\n",
       "    }\n",
       "</style>\n",
       "<table border=\"1\" class=\"dataframe\">\n",
       "  <thead>\n",
       "    <tr style=\"text-align: right;\">\n",
       "      <th></th>\n",
       "      <th>Prenom</th>\n",
       "      <th>Age</th>\n",
       "    </tr>\n",
       "  </thead>\n",
       "  <tbody>\n",
       "    <tr>\n",
       "      <th>0</th>\n",
       "      <td>fim</td>\n",
       "      <td>20</td>\n",
       "    </tr>\n",
       "    <tr>\n",
       "      <th>1</th>\n",
       "      <td>franck</td>\n",
       "      <td>3</td>\n",
       "    </tr>\n",
       "    <tr>\n",
       "      <th>2</th>\n",
       "      <td>vainqueur</td>\n",
       "      <td>6</td>\n",
       "    </tr>\n",
       "  </tbody>\n",
       "</table>\n",
       "</div>"
      ],
      "text/plain": [
       "      Prenom  Age\n",
       "0        fim   20\n",
       "1     franck    3\n",
       "2  vainqueur    6"
      ]
     },
     "execution_count": 12,
     "metadata": {},
     "output_type": "execute_result"
    }
   ],
   "source": [
    "preAge = {\n",
    "    \"Prenom\":[\"fim\",\"franck\", \"vainqueur\"],\n",
    "    \"Age\":[20,3,6],   \n",
    "}\n",
    "df=pd.DataFrame(preAge)\n",
    "df"
   ]
  },
  {
   "cell_type": "markdown",
   "id": "55c4f70d",
   "metadata": {},
   "source": [
    "# l'acces aux données d'un objet Series\n",
    "## operateur d'indecing\n",
    "## .loc()\n",
    "## .iloc()"
   ]
  },
  {
   "cell_type": "code",
   "execution_count": 13,
   "id": "f6fb3d49",
   "metadata": {},
   "outputs": [
    {
     "data": {
      "text/plain": [
       "5"
      ]
     },
     "execution_count": 13,
     "metadata": {},
     "output_type": "execute_result"
    }
   ],
   "source": [
    "cote = {\n",
    "    \"Reseau\":12,\n",
    "    \"AI\":20,\n",
    "    \"Math\":5,\n",
    "}\n",
    "#print(dir(pd))\n",
    "df= pd.Series(cote)\n",
    "df[\"Math\"]\n",
    "# silicing"
   ]
  },
  {
   "cell_type": "code",
   "execution_count": 14,
   "id": "d787e91a",
   "metadata": {},
   "outputs": [
    {
     "data": {
      "text/html": [
       "<div>\n",
       "<style scoped>\n",
       "    .dataframe tbody tr th:only-of-type {\n",
       "        vertical-align: middle;\n",
       "    }\n",
       "\n",
       "    .dataframe tbody tr th {\n",
       "        vertical-align: top;\n",
       "    }\n",
       "\n",
       "    .dataframe thead th {\n",
       "        text-align: right;\n",
       "    }\n",
       "</style>\n",
       "<table border=\"1\" class=\"dataframe\">\n",
       "  <thead>\n",
       "    <tr style=\"text-align: right;\">\n",
       "      <th></th>\n",
       "      <th>Reseau</th>\n",
       "      <th>AI</th>\n",
       "      <th>Math</th>\n",
       "    </tr>\n",
       "  </thead>\n",
       "  <tbody>\n",
       "    <tr>\n",
       "      <th>0</th>\n",
       "      <td>12</td>\n",
       "      <td>20</td>\n",
       "      <td>5</td>\n",
       "    </tr>\n",
       "  </tbody>\n",
       "</table>\n",
       "</div>"
      ],
      "text/plain": [
       "   Reseau  AI  Math\n",
       "0      12  20     5"
      ]
     },
     "execution_count": 14,
     "metadata": {},
     "output_type": "execute_result"
    }
   ],
   "source": [
    "tout = {\n",
    "    \"Reseau\":12,\n",
    "    \"AI\":20,\n",
    "    \"Math\":5,\n",
    "}\n",
    "d_f = pd.DataFrame([tout])\n",
    "d_f"
   ]
  },
  {
   "cell_type": "code",
   "execution_count": 15,
   "id": "acfbf124",
   "metadata": {},
   "outputs": [
    {
     "data": {
      "text/html": [
       "<div>\n",
       "<style scoped>\n",
       "    .dataframe tbody tr th:only-of-type {\n",
       "        vertical-align: middle;\n",
       "    }\n",
       "\n",
       "    .dataframe tbody tr th {\n",
       "        vertical-align: top;\n",
       "    }\n",
       "\n",
       "    .dataframe thead th {\n",
       "        text-align: right;\n",
       "    }\n",
       "</style>\n",
       "<table border=\"1\" class=\"dataframe\">\n",
       "  <thead>\n",
       "    <tr style=\"text-align: right;\">\n",
       "      <th></th>\n",
       "      <th>Etudiant/cours</th>\n",
       "      <th>Progreammation web</th>\n",
       "      <th>Progreammation mobile</th>\n",
       "      <th>Progreammation OO</th>\n",
       "      <th>AI</th>\n",
       "      <th>Genie logiciel</th>\n",
       "      <th>Infographie</th>\n",
       "      <th>Adm BD</th>\n",
       "      <th>Reseaux</th>\n",
       "      <th>MOO</th>\n",
       "      <th>MAI</th>\n",
       "      <th>Total</th>\n",
       "      <th>Moyenne</th>\n",
       "    </tr>\n",
       "  </thead>\n",
       "  <tbody>\n",
       "    <tr>\n",
       "      <th>0</th>\n",
       "      <td>Vainqueuer Ilunga</td>\n",
       "      <td>15</td>\n",
       "      <td>18</td>\n",
       "      <td>18</td>\n",
       "      <td>16</td>\n",
       "      <td>15</td>\n",
       "      <td>16</td>\n",
       "      <td>17</td>\n",
       "      <td>14</td>\n",
       "      <td>18</td>\n",
       "      <td>15</td>\n",
       "      <td>NaN</td>\n",
       "      <td>NaN</td>\n",
       "    </tr>\n",
       "    <tr>\n",
       "      <th>1</th>\n",
       "      <td>Mercia Ilunga</td>\n",
       "      <td>16</td>\n",
       "      <td>15</td>\n",
       "      <td>17</td>\n",
       "      <td>14</td>\n",
       "      <td>14</td>\n",
       "      <td>14</td>\n",
       "      <td>15</td>\n",
       "      <td>12</td>\n",
       "      <td>12</td>\n",
       "      <td>14</td>\n",
       "      <td>NaN</td>\n",
       "      <td>NaN</td>\n",
       "    </tr>\n",
       "    <tr>\n",
       "      <th>2</th>\n",
       "      <td>Moise Ilunga</td>\n",
       "      <td>14</td>\n",
       "      <td>14</td>\n",
       "      <td>19</td>\n",
       "      <td>15</td>\n",
       "      <td>16</td>\n",
       "      <td>15</td>\n",
       "      <td>12</td>\n",
       "      <td>14</td>\n",
       "      <td>14</td>\n",
       "      <td>12</td>\n",
       "      <td>NaN</td>\n",
       "      <td>NaN</td>\n",
       "    </tr>\n",
       "    <tr>\n",
       "      <th>3</th>\n",
       "      <td>Tegra Lubaba</td>\n",
       "      <td>16</td>\n",
       "      <td>15</td>\n",
       "      <td>15</td>\n",
       "      <td>15</td>\n",
       "      <td>17</td>\n",
       "      <td>16</td>\n",
       "      <td>12</td>\n",
       "      <td>17</td>\n",
       "      <td>15</td>\n",
       "      <td>14</td>\n",
       "      <td>NaN</td>\n",
       "      <td>NaN</td>\n",
       "    </tr>\n",
       "    <tr>\n",
       "      <th>4</th>\n",
       "      <td>Sinai Kyembe</td>\n",
       "      <td>15</td>\n",
       "      <td>16</td>\n",
       "      <td>18</td>\n",
       "      <td>16</td>\n",
       "      <td>18</td>\n",
       "      <td>17</td>\n",
       "      <td>14</td>\n",
       "      <td>15</td>\n",
       "      <td>14</td>\n",
       "      <td>15</td>\n",
       "      <td>NaN</td>\n",
       "      <td>NaN</td>\n",
       "    </tr>\n",
       "    <tr>\n",
       "      <th>5</th>\n",
       "      <td>Hermann Lumbila</td>\n",
       "      <td>17</td>\n",
       "      <td>17</td>\n",
       "      <td>17</td>\n",
       "      <td>14</td>\n",
       "      <td>19</td>\n",
       "      <td>15</td>\n",
       "      <td>15</td>\n",
       "      <td>16</td>\n",
       "      <td>15</td>\n",
       "      <td>18</td>\n",
       "      <td>NaN</td>\n",
       "      <td>NaN</td>\n",
       "    </tr>\n",
       "    <tr>\n",
       "      <th>6</th>\n",
       "      <td>Cyrile Kalasa</td>\n",
       "      <td>15</td>\n",
       "      <td>18</td>\n",
       "      <td>19</td>\n",
       "      <td>15</td>\n",
       "      <td>12</td>\n",
       "      <td>14</td>\n",
       "      <td>16</td>\n",
       "      <td>18</td>\n",
       "      <td>17</td>\n",
       "      <td>16</td>\n",
       "      <td>NaN</td>\n",
       "      <td>NaN</td>\n",
       "    </tr>\n",
       "    <tr>\n",
       "      <th>7</th>\n",
       "      <td>Tryphene Beya</td>\n",
       "      <td>14</td>\n",
       "      <td>19</td>\n",
       "      <td>15</td>\n",
       "      <td>12</td>\n",
       "      <td>14</td>\n",
       "      <td>12</td>\n",
       "      <td>14</td>\n",
       "      <td>19</td>\n",
       "      <td>16</td>\n",
       "      <td>17</td>\n",
       "      <td>NaN</td>\n",
       "      <td>NaN</td>\n",
       "    </tr>\n",
       "    <tr>\n",
       "      <th>8</th>\n",
       "      <td>Joydy Boni</td>\n",
       "      <td>16</td>\n",
       "      <td>12</td>\n",
       "      <td>18</td>\n",
       "      <td>15</td>\n",
       "      <td>15</td>\n",
       "      <td>11</td>\n",
       "      <td>17</td>\n",
       "      <td>17</td>\n",
       "      <td>18</td>\n",
       "      <td>15</td>\n",
       "      <td>NaN</td>\n",
       "      <td>NaN</td>\n",
       "    </tr>\n",
       "    <tr>\n",
       "      <th>9</th>\n",
       "      <td>Hubert Kalolo</td>\n",
       "      <td>15</td>\n",
       "      <td>15</td>\n",
       "      <td>16</td>\n",
       "      <td>15</td>\n",
       "      <td>18</td>\n",
       "      <td>10</td>\n",
       "      <td>15</td>\n",
       "      <td>15</td>\n",
       "      <td>18</td>\n",
       "      <td>17</td>\n",
       "      <td>NaN</td>\n",
       "      <td>NaN</td>\n",
       "    </tr>\n",
       "    <tr>\n",
       "      <th>10</th>\n",
       "      <td>Hoshe Muteba</td>\n",
       "      <td>14</td>\n",
       "      <td>14</td>\n",
       "      <td>14</td>\n",
       "      <td>16</td>\n",
       "      <td>16</td>\n",
       "      <td>12</td>\n",
       "      <td>16</td>\n",
       "      <td>15</td>\n",
       "      <td>15</td>\n",
       "      <td>15</td>\n",
       "      <td>NaN</td>\n",
       "      <td>NaN</td>\n",
       "    </tr>\n",
       "    <tr>\n",
       "      <th>11</th>\n",
       "      <td>Espoir</td>\n",
       "      <td>16</td>\n",
       "      <td>15</td>\n",
       "      <td>15</td>\n",
       "      <td>17</td>\n",
       "      <td>17</td>\n",
       "      <td>12</td>\n",
       "      <td>17</td>\n",
       "      <td>14</td>\n",
       "      <td>15</td>\n",
       "      <td>12</td>\n",
       "      <td>NaN</td>\n",
       "      <td>NaN</td>\n",
       "    </tr>\n",
       "    <tr>\n",
       "      <th>12</th>\n",
       "      <td>Jeancy Kitenge</td>\n",
       "      <td>18</td>\n",
       "      <td>16</td>\n",
       "      <td>14</td>\n",
       "      <td>18</td>\n",
       "      <td>13</td>\n",
       "      <td>13</td>\n",
       "      <td>15</td>\n",
       "      <td>14</td>\n",
       "      <td>15</td>\n",
       "      <td>14</td>\n",
       "      <td>NaN</td>\n",
       "      <td>NaN</td>\n",
       "    </tr>\n",
       "    <tr>\n",
       "      <th>13</th>\n",
       "      <td>Merveil Mamba</td>\n",
       "      <td>15</td>\n",
       "      <td>17</td>\n",
       "      <td>12</td>\n",
       "      <td>12</td>\n",
       "      <td>14</td>\n",
       "      <td>14</td>\n",
       "      <td>17</td>\n",
       "      <td>14</td>\n",
       "      <td>12</td>\n",
       "      <td>12</td>\n",
       "      <td>NaN</td>\n",
       "      <td>NaN</td>\n",
       "    </tr>\n",
       "  </tbody>\n",
       "</table>\n",
       "</div>"
      ],
      "text/plain": [
       "       Etudiant/cours  Progreammation web  Progreammation mobile  \\\n",
       "0   Vainqueuer Ilunga                  15                     18   \n",
       "1       Mercia Ilunga                  16                     15   \n",
       "2        Moise Ilunga                  14                     14   \n",
       "3        Tegra Lubaba                  16                     15   \n",
       "4        Sinai Kyembe                  15                     16   \n",
       "5     Hermann Lumbila                  17                     17   \n",
       "6       Cyrile Kalasa                  15                     18   \n",
       "7       Tryphene Beya                  14                     19   \n",
       "8          Joydy Boni                  16                     12   \n",
       "9       Hubert Kalolo                  15                     15   \n",
       "10       Hoshe Muteba                  14                     14   \n",
       "11             Espoir                  16                     15   \n",
       "12     Jeancy Kitenge                  18                     16   \n",
       "13      Merveil Mamba                  15                     17   \n",
       "\n",
       "    Progreammation OO  AI  Genie logiciel  Infographie  Adm BD  Reseaux  MOO  \\\n",
       "0                  18  16              15           16      17       14   18   \n",
       "1                  17  14              14           14      15       12   12   \n",
       "2                  19  15              16           15      12       14   14   \n",
       "3                  15  15              17           16      12       17   15   \n",
       "4                  18  16              18           17      14       15   14   \n",
       "5                  17  14              19           15      15       16   15   \n",
       "6                  19  15              12           14      16       18   17   \n",
       "7                  15  12              14           12      14       19   16   \n",
       "8                  18  15              15           11      17       17   18   \n",
       "9                  16  15              18           10      15       15   18   \n",
       "10                 14  16              16           12      16       15   15   \n",
       "11                 15  17              17           12      17       14   15   \n",
       "12                 14  18              13           13      15       14   15   \n",
       "13                 12  12              14           14      17       14   12   \n",
       "\n",
       "    MAI  Total  Moyenne  \n",
       "0    15    NaN      NaN  \n",
       "1    14    NaN      NaN  \n",
       "2    12    NaN      NaN  \n",
       "3    14    NaN      NaN  \n",
       "4    15    NaN      NaN  \n",
       "5    18    NaN      NaN  \n",
       "6    16    NaN      NaN  \n",
       "7    17    NaN      NaN  \n",
       "8    15    NaN      NaN  \n",
       "9    17    NaN      NaN  \n",
       "10   15    NaN      NaN  \n",
       "11   12    NaN      NaN  \n",
       "12   14    NaN      NaN  \n",
       "13   12    NaN      NaN  "
      ]
     },
     "execution_count": 15,
     "metadata": {},
     "output_type": "execute_result"
    }
   ],
   "source": [
    "cotes_excel= pd.read_excel('cote.xlsx')\n",
    "cotes_excel"
   ]
  },
  {
   "cell_type": "code",
   "execution_count": 23,
   "id": "2748cdfd",
   "metadata": {},
   "outputs": [
    {
     "name": "stderr",
     "output_type": "stream",
     "text": [
      "C:\\Users\\ilung\\AppData\\Local\\Temp\\ipykernel_8608\\484098875.py:2: FutureWarning: Dropping of nuisance columns in DataFrame reductions (with 'numeric_only=None') is deprecated; in a future version this will raise TypeError.  Select only valid columns before calling the reduction.\n",
      "  cotes_excel.sum(axis=1)\n"
     ]
    },
    {
     "data": {
      "text/plain": [
       "0     162.0\n",
       "1     143.0\n",
       "2     145.0\n",
       "3     152.0\n",
       "4     158.0\n",
       "5     163.0\n",
       "6     160.0\n",
       "7     152.0\n",
       "8     154.0\n",
       "9     154.0\n",
       "10    147.0\n",
       "11    150.0\n",
       "12    150.0\n",
       "13    139.0\n",
       "dtype: float64"
      ]
     },
     "execution_count": 23,
     "metadata": {},
     "output_type": "execute_result"
    }
   ],
   "source": [
    "# pour calculer la somme de cote chaque etudiant\n",
    "cotes_excel.sum(axis=1)"
   ]
  },
  {
   "cell_type": "code",
   "execution_count": 21,
   "id": "eef3778a",
   "metadata": {},
   "outputs": [
    {
     "name": "stderr",
     "output_type": "stream",
     "text": [
      "C:\\Users\\ilung\\AppData\\Local\\Temp\\ipykernel_8608\\3703990533.py:1: FutureWarning: Dropping of nuisance columns in DataFrame reductions (with 'numeric_only=None') is deprecated; in a future version this will raise TypeError.  Select only valid columns before calling the reduction.\n",
      "  cotes_excel.mean(axis=1)\n"
     ]
    },
    {
     "data": {
      "text/plain": [
       "0     16.2\n",
       "1     14.3\n",
       "2     14.5\n",
       "3     15.2\n",
       "4     15.8\n",
       "5     16.3\n",
       "6     16.0\n",
       "7     15.2\n",
       "8     15.4\n",
       "9     15.4\n",
       "10    14.7\n",
       "11    15.0\n",
       "12    15.0\n",
       "13    13.9\n",
       "dtype: float64"
      ]
     },
     "execution_count": 21,
     "metadata": {},
     "output_type": "execute_result"
    }
   ],
   "source": [
    "cotes_excel.mean(axis=1)"
   ]
  },
  {
   "cell_type": "code",
   "execution_count": null,
   "id": "2176dee7",
   "metadata": {},
   "outputs": [],
   "source": []
  },
  {
   "cell_type": "code",
   "execution_count": null,
   "id": "1f6f8542",
   "metadata": {},
   "outputs": [],
   "source": []
  },
  {
   "cell_type": "code",
   "execution_count": null,
   "id": "17d729ad",
   "metadata": {},
   "outputs": [],
   "source": []
  },
  {
   "cell_type": "code",
   "execution_count": null,
   "id": "7bdf9ef2",
   "metadata": {},
   "outputs": [],
   "source": []
  },
  {
   "cell_type": "code",
   "execution_count": null,
   "id": "bec891a7",
   "metadata": {},
   "outputs": [],
   "source": []
  },
  {
   "cell_type": "code",
   "execution_count": null,
   "id": "b3b2ef95",
   "metadata": {},
   "outputs": [],
   "source": []
  },
  {
   "cell_type": "code",
   "execution_count": null,
   "id": "e02d3277",
   "metadata": {},
   "outputs": [],
   "source": []
  },
  {
   "cell_type": "code",
   "execution_count": null,
   "id": "80bc451b",
   "metadata": {},
   "outputs": [],
   "source": []
  },
  {
   "cell_type": "code",
   "execution_count": null,
   "id": "e565d01b",
   "metadata": {},
   "outputs": [],
   "source": []
  },
  {
   "cell_type": "code",
   "execution_count": null,
   "id": "27111d94",
   "metadata": {},
   "outputs": [],
   "source": []
  }
 ],
 "metadata": {
  "kernelspec": {
   "display_name": "Python 3 (ipykernel)",
   "language": "python",
   "name": "python3"
  },
  "language_info": {
   "codemirror_mode": {
    "name": "ipython",
    "version": 3
   },
   "file_extension": ".py",
   "mimetype": "text/x-python",
   "name": "python",
   "nbconvert_exporter": "python",
   "pygments_lexer": "ipython3",
   "version": "3.10.9"
  }
 },
 "nbformat": 4,
 "nbformat_minor": 5
}
