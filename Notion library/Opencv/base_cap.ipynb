{
 "cells": [
  {
   "cell_type": "markdown",
   "id": "d327594f",
   "metadata": {},
   "source": [
    "# Détecter les visages à l'aide de Haar Cascades et OpenCV\n",
    "\n",
    "### La détection d'objets basée sur les cascades de Haar est une technique d'apprentissage automatique dans laquelle une fonction en cascade est entraînée à l'aide d'images positives et négatives. Il est utilisé pour détecter des objets dans une image, tels que des visages.\n",
    "\n",
    "### CascadeClassifierest créé et le modèle de cascade de Haar est chargé à partir d'un fichier XML. Le detectMultiScaleprocédé est utilisé pour détecter des visages dans une image. La méthode renvoie des rectangles de délimitation pour les visages détectés qui s'affichent sur l'image.\n"
   ]
  },
  {
   "cell_type": "code",
   "execution_count": 9,
   "id": "9561a48f",
   "metadata": {},
   "outputs": [
    {
     "name": "stdout",
     "output_type": "stream",
     "text": [
      "dataset/haarcascade_frontalface_alt.xml\n"
     ]
    }
   ],
   "source": [
    "# pip install opencv-python\n",
    "import cv2\n",
    "\n",
    "haarCascade = 'dataset/haarcascade_frontalface_alt.xml'\n",
    "print(haarCascade)\n",
    "cap = cv2.VideoCapture(0)\n",
    "\n",
    "while True:\n",
    "    ret,frame = cap.read()\n",
    "    grayFrame = cv2.cvtColor(frame, cv2.COLOR_BGR2GRAY)\n",
    "\n",
    "    classifier = cv2.CascadeClassifier(haarCascade)\n",
    "    faces = classifier.detectMultiScale(grayFrame)\n",
    "\n",
    "    for x, y, w, h in faces:\n",
    "        cv2.rectangle(frame, (x, y), (x + w, y + h), color=(0, 255, 0), thickness=2)\n",
    "\n",
    "    cv2.imshow('Video', frame)\n",
    "    k= cv2.waitKey(1)\n",
    "    if k== ord(\"q\"):\n",
    "        break\n",
    "cap.release()\n",
    "cv2.destroyAllWindows()"
   ]
  },
  {
   "cell_type": "code",
   "execution_count": null,
   "id": "3ca57a80",
   "metadata": {},
   "outputs": [],
   "source": []
  }
 ],
 "metadata": {
  "kernelspec": {
   "display_name": "Python 3 (ipykernel)",
   "language": "python",
   "name": "python3"
  },
  "language_info": {
   "codemirror_mode": {
    "name": "ipython",
    "version": 3
   },
   "file_extension": ".py",
   "mimetype": "text/x-python",
   "name": "python",
   "nbconvert_exporter": "python",
   "pygments_lexer": "ipython3",
   "version": "3.10.9"
  }
 },
 "nbformat": 4,
 "nbformat_minor": 5
}
